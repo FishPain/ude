{
 "cells": [
  {
   "cell_type": "code",
   "execution_count": 13,
   "id": "cdb1a347",
   "metadata": {},
   "outputs": [],
   "source": [
    "from graph import build_graph\n",
    "from langchain_openai import ChatOpenAI\n",
    "from utils import encode_image\n",
    "from dotenv import load_dotenv"
   ]
  },
  {
   "cell_type": "code",
   "execution_count": 14,
   "id": "e09586d9",
   "metadata": {},
   "outputs": [
    {
     "data": {
      "text/plain": [
       "True"
      ]
     },
     "execution_count": 14,
     "metadata": {},
     "output_type": "execute_result"
    }
   ],
   "source": [
    "load_dotenv()"
   ]
  },
  {
   "cell_type": "code",
   "execution_count": 15,
   "id": "e736b072",
   "metadata": {},
   "outputs": [],
   "source": [
    "graph = build_graph()"
   ]
  },
  {
   "cell_type": "code",
   "execution_count": 16,
   "id": "e2f1ef81",
   "metadata": {},
   "outputs": [],
   "source": [
    "model = ChatOpenAI(model=\"gpt-4o\")"
   ]
  },
  {
   "cell_type": "code",
   "execution_count": 17,
   "id": "51f6c17e",
   "metadata": {},
   "outputs": [
    {
     "name": "stdout",
     "output_type": "stream",
     "text": [
      "Dummy trigger bad things\n"
     ]
    }
   ],
   "source": [
    "final_state = graph.invoke({\n",
    "    \"model\": model,\n",
    "    \"base64_image\": encode_image(\"/Users/ifish/Library/Mobile Documents/com~apple~CloudDocs/SIT/Y2_T3/ude/test2.jpg\")\n",
    "})"
   ]
  }
 ],
 "metadata": {
  "kernelspec": {
   "display_name": ".venv",
   "language": "python",
   "name": "python3"
  },
  "language_info": {
   "codemirror_mode": {
    "name": "ipython",
    "version": 3
   },
   "file_extension": ".py",
   "mimetype": "text/x-python",
   "name": "python",
   "nbconvert_exporter": "python",
   "pygments_lexer": "ipython3",
   "version": "3.13.2"
  }
 },
 "nbformat": 4,
 "nbformat_minor": 5
}
